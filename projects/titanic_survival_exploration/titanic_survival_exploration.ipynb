{
 "cells": [
  {
   "cell_type": "markdown",
   "metadata": {},
   "source": [
    "# Machine Learning Engineer Nanodegree\n",
    "## Introduction and Foundations\n",
    "## Project: Titanic Survival Exploration\n",
    "\n",
    "In 1912, the ship RMS Titanic struck an iceberg on its maiden voyage and sank, resulting in the deaths of most of its passengers and crew. In this introductory project, we will explore a subset of the RMS Titanic passenger manifest to determine which features best predict whether someone survived or did not survive. To complete this project, you will need to implement several conditional predictions and answer the questions below. Your project submission will be evaluated based on the completion of the code and your responses to the questions.\n",
    "> **Tip:** Quoted sections like this will provide helpful instructions on how to navigate and use an iPython notebook. "
   ]
  },
  {
   "cell_type": "markdown",
   "metadata": {},
   "source": [
    "# Getting Started\n",
    "To begin working with the RMS Titanic passenger data, we'll first need to `import` the functionality we need, and load our data into a `pandas` DataFrame.  \n",
    "Run the code cell below to load our data and display the first few entries (passengers) for examination using the `.head()` function.\n",
    "> **Tip:** You can run a code cell by clicking on the cell and using the keyboard shortcut **Shift + Enter** or **Shift + Return**. Alternatively, a code cell can be executed using the **Play** button in the hotbar after selecting it. Markdown cells (text cells like this one) can be edited by double-clicking, and saved using these same shortcuts. [Markdown](http://daringfireball.net/projects/markdown/syntax) allows you to write easy-to-read plain text that can be converted to HTML."
   ]
  },
  {
   "cell_type": "code",
   "execution_count": 2,
   "metadata": {
    "collapsed": false
   },
   "outputs": [
    {
     "data": {
      "text/html": [
       "<div>\n",
       "<table border=\"1\" class=\"dataframe\">\n",
       "  <thead>\n",
       "    <tr style=\"text-align: right;\">\n",
       "      <th></th>\n",
       "      <th>PassengerId</th>\n",
       "      <th>Survived</th>\n",
       "      <th>Pclass</th>\n",
       "      <th>Name</th>\n",
       "      <th>Sex</th>\n",
       "      <th>Age</th>\n",
       "      <th>SibSp</th>\n",
       "      <th>Parch</th>\n",
       "      <th>Ticket</th>\n",
       "      <th>Fare</th>\n",
       "      <th>Cabin</th>\n",
       "      <th>Embarked</th>\n",
       "    </tr>\n",
       "  </thead>\n",
       "  <tbody>\n",
       "    <tr>\n",
       "      <th>0</th>\n",
       "      <td>1</td>\n",
       "      <td>0</td>\n",
       "      <td>3</td>\n",
       "      <td>Braund, Mr. Owen Harris</td>\n",
       "      <td>male</td>\n",
       "      <td>22.0</td>\n",
       "      <td>1</td>\n",
       "      <td>0</td>\n",
       "      <td>A/5 21171</td>\n",
       "      <td>7.2500</td>\n",
       "      <td>NaN</td>\n",
       "      <td>S</td>\n",
       "    </tr>\n",
       "    <tr>\n",
       "      <th>1</th>\n",
       "      <td>2</td>\n",
       "      <td>1</td>\n",
       "      <td>1</td>\n",
       "      <td>Cumings, Mrs. John Bradley (Florence Briggs Th...</td>\n",
       "      <td>female</td>\n",
       "      <td>38.0</td>\n",
       "      <td>1</td>\n",
       "      <td>0</td>\n",
       "      <td>PC 17599</td>\n",
       "      <td>71.2833</td>\n",
       "      <td>C85</td>\n",
       "      <td>C</td>\n",
       "    </tr>\n",
       "    <tr>\n",
       "      <th>2</th>\n",
       "      <td>3</td>\n",
       "      <td>1</td>\n",
       "      <td>3</td>\n",
       "      <td>Heikkinen, Miss. Laina</td>\n",
       "      <td>female</td>\n",
       "      <td>26.0</td>\n",
       "      <td>0</td>\n",
       "      <td>0</td>\n",
       "      <td>STON/O2. 3101282</td>\n",
       "      <td>7.9250</td>\n",
       "      <td>NaN</td>\n",
       "      <td>S</td>\n",
       "    </tr>\n",
       "    <tr>\n",
       "      <th>3</th>\n",
       "      <td>4</td>\n",
       "      <td>1</td>\n",
       "      <td>1</td>\n",
       "      <td>Futrelle, Mrs. Jacques Heath (Lily May Peel)</td>\n",
       "      <td>female</td>\n",
       "      <td>35.0</td>\n",
       "      <td>1</td>\n",
       "      <td>0</td>\n",
       "      <td>113803</td>\n",
       "      <td>53.1000</td>\n",
       "      <td>C123</td>\n",
       "      <td>S</td>\n",
       "    </tr>\n",
       "    <tr>\n",
       "      <th>4</th>\n",
       "      <td>5</td>\n",
       "      <td>0</td>\n",
       "      <td>3</td>\n",
       "      <td>Allen, Mr. William Henry</td>\n",
       "      <td>male</td>\n",
       "      <td>35.0</td>\n",
       "      <td>0</td>\n",
       "      <td>0</td>\n",
       "      <td>373450</td>\n",
       "      <td>8.0500</td>\n",
       "      <td>NaN</td>\n",
       "      <td>S</td>\n",
       "    </tr>\n",
       "  </tbody>\n",
       "</table>\n",
       "</div>"
      ],
      "text/plain": [
       "   PassengerId  Survived  Pclass  \\\n",
       "0            1         0       3   \n",
       "1            2         1       1   \n",
       "2            3         1       3   \n",
       "3            4         1       1   \n",
       "4            5         0       3   \n",
       "\n",
       "                                                Name     Sex   Age  SibSp  \\\n",
       "0                            Braund, Mr. Owen Harris    male  22.0      1   \n",
       "1  Cumings, Mrs. John Bradley (Florence Briggs Th...  female  38.0      1   \n",
       "2                             Heikkinen, Miss. Laina  female  26.0      0   \n",
       "3       Futrelle, Mrs. Jacques Heath (Lily May Peel)  female  35.0      1   \n",
       "4                           Allen, Mr. William Henry    male  35.0      0   \n",
       "\n",
       "   Parch            Ticket     Fare Cabin Embarked  \n",
       "0      0         A/5 21171   7.2500   NaN        S  \n",
       "1      0          PC 17599  71.2833   C85        C  \n",
       "2      0  STON/O2. 3101282   7.9250   NaN        S  \n",
       "3      0            113803  53.1000  C123        S  \n",
       "4      0            373450   8.0500   NaN        S  "
      ]
     },
     "metadata": {},
     "output_type": "display_data"
    }
   ],
   "source": [
    "# Import libraries necessary for this project\n",
    "import numpy as np\n",
    "import pandas as pd\n",
    "from IPython.display import display # Allows the use of display() for DataFrames\n",
    "\n",
    "# Import supplementary visualizations code visuals.py\n",
    "import visuals as vs\n",
    "\n",
    "# Pretty display for notebooks\n",
    "%matplotlib inline\n",
    "\n",
    "# Load the dataset\n",
    "in_file = 'titanic_data.csv'\n",
    "full_data = pd.read_csv(in_file)\n",
    "\n",
    "# Print the first few entries of the RMS Titanic data\n",
    "display(full_data.head())"
   ]
  },
  {
   "cell_type": "markdown",
   "metadata": {},
   "source": [
    "From a sample of the RMS Titanic data, we can see the various features present for each passenger on the ship:\n",
    "- **Survived**: Outcome of survival (0 = No; 1 = Yes)\n",
    "- **Pclass**: Socio-economic class (1 = Upper class; 2 = Middle class; 3 = Lower class)\n",
    "- **Name**: Name of passenger\n",
    "- **Sex**: Sex of the passenger\n",
    "- **Age**: Age of the passenger (Some entries contain `NaN`)\n",
    "- **SibSp**: Number of siblings and spouses of the passenger aboard\n",
    "- **Parch**: Number of parents and children of the passenger aboard\n",
    "- **Ticket**: Ticket number of the passenger\n",
    "- **Fare**: Fare paid by the passenger\n",
    "- **Cabin** Cabin number of the passenger (Some entries contain `NaN`)\n",
    "- **Embarked**: Port of embarkation of the passenger (C = Cherbourg; Q = Queenstown; S = Southampton)\n",
    "\n",
    "Since we're interested in the outcome of survival for each passenger or crew member, we can remove the **Survived** feature from this dataset and store it as its own separate variable `outcomes`. We will use these outcomes as our prediction targets.  \n",
    "Run the code cell below to remove **Survived** as a feature of the dataset and store it in `outcomes`."
   ]
  },
  {
   "cell_type": "code",
   "execution_count": 4,
   "metadata": {
    "collapsed": false
   },
   "outputs": [
    {
     "data": {
      "text/html": [
       "<div>\n",
       "<table border=\"1\" class=\"dataframe\">\n",
       "  <thead>\n",
       "    <tr style=\"text-align: right;\">\n",
       "      <th></th>\n",
       "      <th>PassengerId</th>\n",
       "      <th>Pclass</th>\n",
       "      <th>Name</th>\n",
       "      <th>Sex</th>\n",
       "      <th>Age</th>\n",
       "      <th>SibSp</th>\n",
       "      <th>Parch</th>\n",
       "      <th>Ticket</th>\n",
       "      <th>Fare</th>\n",
       "      <th>Cabin</th>\n",
       "      <th>Embarked</th>\n",
       "    </tr>\n",
       "  </thead>\n",
       "  <tbody>\n",
       "    <tr>\n",
       "      <th>0</th>\n",
       "      <td>1</td>\n",
       "      <td>3</td>\n",
       "      <td>Braund, Mr. Owen Harris</td>\n",
       "      <td>male</td>\n",
       "      <td>22.0</td>\n",
       "      <td>1</td>\n",
       "      <td>0</td>\n",
       "      <td>A/5 21171</td>\n",
       "      <td>7.2500</td>\n",
       "      <td>NaN</td>\n",
       "      <td>S</td>\n",
       "    </tr>\n",
       "    <tr>\n",
       "      <th>1</th>\n",
       "      <td>2</td>\n",
       "      <td>1</td>\n",
       "      <td>Cumings, Mrs. John Bradley (Florence Briggs Th...</td>\n",
       "      <td>female</td>\n",
       "      <td>38.0</td>\n",
       "      <td>1</td>\n",
       "      <td>0</td>\n",
       "      <td>PC 17599</td>\n",
       "      <td>71.2833</td>\n",
       "      <td>C85</td>\n",
       "      <td>C</td>\n",
       "    </tr>\n",
       "    <tr>\n",
       "      <th>2</th>\n",
       "      <td>3</td>\n",
       "      <td>3</td>\n",
       "      <td>Heikkinen, Miss. Laina</td>\n",
       "      <td>female</td>\n",
       "      <td>26.0</td>\n",
       "      <td>0</td>\n",
       "      <td>0</td>\n",
       "      <td>STON/O2. 3101282</td>\n",
       "      <td>7.9250</td>\n",
       "      <td>NaN</td>\n",
       "      <td>S</td>\n",
       "    </tr>\n",
       "    <tr>\n",
       "      <th>3</th>\n",
       "      <td>4</td>\n",
       "      <td>1</td>\n",
       "      <td>Futrelle, Mrs. Jacques Heath (Lily May Peel)</td>\n",
       "      <td>female</td>\n",
       "      <td>35.0</td>\n",
       "      <td>1</td>\n",
       "      <td>0</td>\n",
       "      <td>113803</td>\n",
       "      <td>53.1000</td>\n",
       "      <td>C123</td>\n",
       "      <td>S</td>\n",
       "    </tr>\n",
       "    <tr>\n",
       "      <th>4</th>\n",
       "      <td>5</td>\n",
       "      <td>3</td>\n",
       "      <td>Allen, Mr. William Henry</td>\n",
       "      <td>male</td>\n",
       "      <td>35.0</td>\n",
       "      <td>0</td>\n",
       "      <td>0</td>\n",
       "      <td>373450</td>\n",
       "      <td>8.0500</td>\n",
       "      <td>NaN</td>\n",
       "      <td>S</td>\n",
       "    </tr>\n",
       "  </tbody>\n",
       "</table>\n",
       "</div>"
      ],
      "text/plain": [
       "   PassengerId  Pclass                                               Name  \\\n",
       "0            1       3                            Braund, Mr. Owen Harris   \n",
       "1            2       1  Cumings, Mrs. John Bradley (Florence Briggs Th...   \n",
       "2            3       3                             Heikkinen, Miss. Laina   \n",
       "3            4       1       Futrelle, Mrs. Jacques Heath (Lily May Peel)   \n",
       "4            5       3                           Allen, Mr. William Henry   \n",
       "\n",
       "      Sex   Age  SibSp  Parch            Ticket     Fare Cabin Embarked  \n",
       "0    male  22.0      1      0         A/5 21171   7.2500   NaN        S  \n",
       "1  female  38.0      1      0          PC 17599  71.2833   C85        C  \n",
       "2  female  26.0      0      0  STON/O2. 3101282   7.9250   NaN        S  \n",
       "3  female  35.0      1      0            113803  53.1000  C123        S  \n",
       "4    male  35.0      0      0            373450   8.0500   NaN        S  "
      ]
     },
     "metadata": {},
     "output_type": "display_data"
    }
   ],
   "source": [
    "# Store the 'Survived' feature in a new variable and remove it from the dataset\n",
    "outcomes = full_data['Survived']\n",
    "data = full_data.drop('Survived', axis = 1)\n",
    "\n",
    "# Show the new dataset with 'Survived' removed\n",
    "display(data.head())"
   ]
  },
  {
   "cell_type": "markdown",
   "metadata": {},
   "source": [
    "The very same sample of the RMS Titanic data now shows the **Survived** feature removed from the DataFrame. Note that `data` (the passenger data) and `outcomes` (the outcomes of survival) are now *paired*. That means for any passenger `data.loc[i]`, they have the survival outcome `outcomes[i]`.\n",
    "\n",
    "To measure the performance of our predictions, we need a metric to score our predictions against the true outcomes of survival. Since we are interested in how *accurate* our predictions are, we will calculate the proportion of passengers where our prediction of their survival is correct. Run the code cell below to create our `accuracy_score` function and test a prediction on the first five passengers.  \n",
    "\n",
    "**Think:** *Out of the first five passengers, if we predict that all of them survived, what would you expect the accuracy of our predictions to be?*"
   ]
  },
  {
   "cell_type": "code",
   "execution_count": 5,
   "metadata": {
    "collapsed": false
   },
   "outputs": [
    {
     "name": "stdout",
     "output_type": "stream",
     "text": [
      "Predictions have an accuracy of 60.00%.\n"
     ]
    }
   ],
   "source": [
    "def accuracy_score(truth, pred):\n",
    "    \"\"\" Returns accuracy score for input truth and predictions. \"\"\"\n",
    "    \n",
    "    # Ensure that the number of predictions matches number of outcomes\n",
    "    if len(truth) == len(pred): \n",
    "        \n",
    "        # Calculate and return the accuracy as a percent\n",
    "        return \"Predictions have an accuracy of {:.2f}%.\".format((truth == pred).mean()*100)\n",
    "    \n",
    "    else:\n",
    "        return \"Number of predictions does not match number of outcomes!\"\n",
    "    \n",
    "# Test the 'accuracy_score' function\n",
    "predictions = pd.Series(np.ones(5, dtype = int))\n",
    "print accuracy_score(outcomes[:5], predictions)"
   ]
  },
  {
   "cell_type": "markdown",
   "metadata": {},
   "source": [
    "> **Tip:** If you save an iPython Notebook, the output from running code blocks will also be saved. However, the state of your workspace will be reset once a new session is started. Make sure that you run all of the code blocks from your previous session to reestablish variables and functions before picking up where you last left off.\n",
    "\n",
    "# Making Predictions\n",
    "\n",
    "If we were asked to make a prediction about any passenger aboard the RMS Titanic whom we knew nothing about, then the best prediction we could make would be that they did not survive. This is because we can assume that a majority of the passengers (more than 50%) did not survive the ship sinking.  \n",
    "The `predictions_0` function below will always predict that a passenger did not survive."
   ]
  },
  {
   "cell_type": "code",
   "execution_count": 6,
   "metadata": {
    "collapsed": false
   },
   "outputs": [],
   "source": [
    "def predictions_0(data):\n",
    "    \"\"\" Model with no features. Always predicts a passenger did not survive. \"\"\"\n",
    "\n",
    "    predictions = []\n",
    "    for _, passenger in data.iterrows():\n",
    "        \n",
    "        # Predict the survival of 'passenger'\n",
    "        predictions.append(0)\n",
    "    \n",
    "    # Return our predictions\n",
    "    return pd.Series(predictions)\n",
    "\n",
    "# Make the predictions\n",
    "predictions = predictions_0(data)"
   ]
  },
  {
   "cell_type": "markdown",
   "metadata": {},
   "source": [
    "### Question 1\n",
    "*Using the RMS Titanic data, how accurate would a prediction be that none of the passengers survived?*  \n",
    "**Hint:** Run the code cell below to see the accuracy of this prediction."
   ]
  },
  {
   "cell_type": "code",
   "execution_count": 7,
   "metadata": {
    "collapsed": false
   },
   "outputs": [
    {
     "name": "stdout",
     "output_type": "stream",
     "text": [
      "Predictions have an accuracy of 61.62%.\n"
     ]
    }
   ],
   "source": [
    "print accuracy_score(outcomes, predictions)"
   ]
  },
  {
   "cell_type": "markdown",
   "metadata": {},
   "source": [
    "**Answer:** *Predictions have an accuracy of 61.62%.*"
   ]
  },
  {
   "cell_type": "markdown",
   "metadata": {},
   "source": [
    "***\n",
    "Let's take a look at whether the feature **Sex** has any indication of survival rates among passengers using the `survival_stats` function. This function is defined in the `titanic_visualizations.py` Python script included with this project. The first two parameters passed to the function are the RMS Titanic data and passenger survival outcomes, respectively. The third parameter indicates which feature we want to plot survival statistics across.  \n",
    "Run the code cell below to plot the survival outcomes of passengers based on their sex."
   ]
  },
  {
   "cell_type": "code",
   "execution_count": 41,
   "metadata": {
    "collapsed": false
   },
   "outputs": [
    {
     "data": {
      "image/png": "iVBORw0KGgoAAAANSUhEUgAAArQAAAIiCAYAAAA5AVuEAAAABHNCSVQICAgIfAhkiAAAAAlwSFlz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\nSUVORK5CYII=\n",
      "text/plain": [
       "<matplotlib.figure.Figure at 0x7fb695dd2210>"
      ]
     },
     "metadata": {},
     "output_type": "display_data"
    }
   ],
   "source": [
    "vs.survival_stats(data, outcomes, 'Sex')"
   ]
  },
  {
   "cell_type": "markdown",
   "metadata": {},
   "source": [
    "Examining the survival statistics, a large majority of males did not survive the ship sinking. However, a majority of females *did* survive the ship sinking. Let's build on our previous prediction: If a passenger was female, then we will predict that they survived. Otherwise, we will predict the passenger did not survive.  \n",
    "Fill in the missing code below so that the function will make this prediction.  \n",
    "**Hint:** You can access the values of each feature for a passenger like a dictionary. For example, `passenger['Sex']` is the sex of the passenger."
   ]
  },
  {
   "cell_type": "code",
   "execution_count": 9,
   "metadata": {
    "collapsed": false
   },
   "outputs": [],
   "source": [
    "def predictions_1(data):\n",
    "    \"\"\" Model with one feature: \n",
    "            - Predict a passenger survived if they are female. \"\"\"\n",
    "    \n",
    "    predictions = []\n",
    "    for _, passenger in data.iterrows():\n",
    "        \n",
    "        # Remove the 'pass' statement below \n",
    "        # and write your prediction conditions here\n",
    "        if passenger['Sex'] == \"female\":\n",
    "            predictions.append(1)\n",
    "        else:\n",
    "            predictions.append(0)\n",
    "    \n",
    "    # Return our predictions\n",
    "    return pd.Series(predictions)\n",
    "\n",
    "# Make the predictions\n",
    "predictions = predictions_1(data)"
   ]
  },
  {
   "cell_type": "markdown",
   "metadata": {},
   "source": [
    "### Question 2\n",
    "*How accurate would a prediction be that all female passengers survived and the remaining passengers did not survive?*  \n",
    "**Hint:** Run the code cell below to see the accuracy of this prediction."
   ]
  },
  {
   "cell_type": "code",
   "execution_count": 10,
   "metadata": {
    "collapsed": false
   },
   "outputs": [
    {
     "name": "stdout",
     "output_type": "stream",
     "text": [
      "Predictions have an accuracy of 78.68%.\n"
     ]
    }
   ],
   "source": [
    "print accuracy_score(outcomes, predictions)"
   ]
  },
  {
   "cell_type": "markdown",
   "metadata": {},
   "source": [
    "**Answer**: *Predictions have an accuracy of 78.68%.*"
   ]
  },
  {
   "cell_type": "markdown",
   "metadata": {},
   "source": [
    "***\n",
    "Using just the **Sex** feature for each passenger, we are able to increase the accuracy of our predictions by a significant margin. Now, let's consider using an additional feature to see if we can further improve our predictions. For example, consider all of the male passengers aboard the RMS Titanic: Can we find a subset of those passengers that had a higher rate of survival? Let's start by looking at the **Age** of each male, by again using the `survival_stats` function. This time, we'll use a fourth parameter to filter out the data so that only passengers with the **Sex** 'male' will be included.  \n",
    "Run the code cell below to plot the survival outcomes of male passengers based on their age."
   ]
  },
  {
   "cell_type": "code",
   "execution_count": 11,
   "metadata": {
    "collapsed": false
   },
   "outputs": [
    {
     "data": {
      "image/png": "iVBORw0KGgoAAAANSUhEUgAAAr0AAAIiCAYAAADFFHBOAAAABHNCSVQICAgIfAhkiAAAAAlwSFlz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\n",
      "text/plain": [
       "<matplotlib.figure.Figure at 0x7fb696678d10>"
      ]
     },
     "metadata": {},
     "output_type": "display_data"
    }
   ],
   "source": [
    "vs.survival_stats(data, outcomes, 'Age', [\"Sex == 'male'\"])"
   ]
  },
  {
   "cell_type": "markdown",
   "metadata": {
    "collapsed": true
   },
   "source": [
    "Examining the survival statistics, the majority of males younger than 10 survived the ship sinking, whereas most males age 10 or older *did not survive* the ship sinking. Let's continue to build on our previous prediction: If a passenger was female, then we will predict they survive. If a passenger was male and younger than 10, then we will also predict they survive. Otherwise, we will predict they do not survive.  \n",
    "Fill in the missing code below so that the function will make this prediction.  \n",
    "**Hint:** You can start your implementation of this function using the prediction code you wrote earlier from `predictions_1`."
   ]
  },
  {
   "cell_type": "code",
   "execution_count": 12,
   "metadata": {
    "collapsed": false
   },
   "outputs": [],
   "source": [
    "def predictions_2(data):\n",
    "    \"\"\" Model with two features: \n",
    "            - Predict a passenger survived if they are female.\n",
    "            - Predict a passenger survived if they are male and younger than 10. \"\"\"\n",
    "    \n",
    "    predictions = []\n",
    "    for _, passenger in data.iterrows():\n",
    "        \n",
    "        # Remove the 'pass' statement below \n",
    "        # and write your prediction conditions here\n",
    "        if passenger['Sex'] == \"female\":\n",
    "            predictions.append(1)\n",
    "        elif passenger['Age'] < 10:\n",
    "            predictions.append(1)\n",
    "        else:\n",
    "            predictions.append(0)\n",
    "    \n",
    "    # Return our predictions\n",
    "    return pd.Series(predictions)\n",
    "\n",
    "# Make the predictions\n",
    "predictions = predictions_2(data)"
   ]
  },
  {
   "cell_type": "markdown",
   "metadata": {},
   "source": [
    "### Question 3\n",
    "*How accurate would a prediction be that all female passengers and all male passengers younger than 10 survived?*  \n",
    "**Hint:** Run the code cell below to see the accuracy of this prediction."
   ]
  },
  {
   "cell_type": "code",
   "execution_count": 13,
   "metadata": {
    "collapsed": false
   },
   "outputs": [
    {
     "name": "stdout",
     "output_type": "stream",
     "text": [
      "Predictions have an accuracy of 79.35%.\n"
     ]
    }
   ],
   "source": [
    "print accuracy_score(outcomes, predictions)"
   ]
  },
  {
   "cell_type": "markdown",
   "metadata": {},
   "source": [
    "**Answer**: *Predictions have an accuracy of 79.35%.*"
   ]
  },
  {
   "cell_type": "markdown",
   "metadata": {
    "collapsed": true
   },
   "source": [
    "***\n",
    "Adding the feature **Age** as a condition in conjunction with **Sex** improves the accuracy by a small margin more than with simply using the feature **Sex** alone. Now it's your turn: Find a series of features and conditions to split the data on to obtain an outcome prediction accuracy of at least 80%. This may require multiple features and multiple levels of conditional statements to succeed. You can use the same feature multiple times with different conditions.   \n",
    "**Pclass**, **Sex**, **Age**, **SibSp**, and **Parch** are some suggested features to try.\n",
    "\n",
    "Use the `survival_stats` function below to to examine various survival statistics.  \n",
    "**Hint:** To use mulitple filter conditions, put each condition in the list passed as the last argument. Example: `[\"Sex == 'male'\", \"Age < 18\"]`"
   ]
  },
  {
   "cell_type": "code",
   "execution_count": 58,
   "metadata": {
    "collapsed": false
   },
   "outputs": [
    {
     "data": {
      "image/png": "iVBORw0KGgoAAAANSUhEUgAAAqwAAAIiCAYAAAANeJqYAAAABHNCSVQICAgIfAhkiAAAAAlwSFlz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\n",
      "text/plain": [
       "<matplotlib.figure.Figure at 0x7fb6964081d0>"
      ]
     },
     "metadata": {},
     "output_type": "display_data"
    }
   ],
   "source": [
<<<<<<< HEAD
    "survival_stats(data, outcomes, 'Fare', [\"Age > 10\", \"Sex == 'female'\"])"
=======
    "vs.survival_stats(data, outcomes, 'Age', [\"Sex == 'male'\", \"Age < 18\"])"
>>>>>>> 890eb59937711ea2b0db8662b79af81fa7daf0ae
   ]
  },
  {
   "cell_type": "markdown",
   "metadata": {},
   "source": [
    "After exploring the survival statistics visualization, fill in the missing code below so that the function will make your prediction.  \n",
    "Make sure to keep track of the various features and conditions you tried before arriving at your final prediction model.  \n",
    "**Hint:** You can start your implementation of this function using the prediction code you wrote earlier from `predictions_2`."
   ]
  },
  {
   "cell_type": "code",
   "execution_count": 59,
   "metadata": {
    "collapsed": false
   },
   "outputs": [],
   "source": [
    "def predictions_3(data):\n",
    "    \"\"\" Model with multiple features. Makes a prediction with an accuracy of at least 80%. \"\"\"\n",
    "    \n",
    "    predictions = []\n",
    "    for _, passenger in data.iterrows():\n",
    "        \n",
    "        # Remove the 'pass' statement below \n",
    "        # and write your prediction conditions here\n",
    "        if passenger['Sex'] == \"female\" and not (passenger['Pclass'] == 3 and (passenger['Age'] in range(20,50))):\n",
    "            predictions.append(1)\n",
    "        elif passenger['Sex'] == \"male\" and passenger['Age'] < 10 and passenger['Pclass'] != 3:\n",
    "            predictions.append(1)\n",
    "        else:\n",
    "            predictions.append(0)\n",
    "        \n",
    "    \n",
    "    # Return our predictions\n",
    "    return pd.Series(predictions)\n",
    "\n",
    "# Make the predictions\n",
    "predictions = predictions_3(data)"
   ]
  },
  {
   "cell_type": "markdown",
   "metadata": {},
   "source": [
    "### Question 4\n",
    "*Describe the steps you took to implement the final prediction model so that it got an accuracy of at least 80%. What features did you look at? Were certain features more informative than others? Which conditions did you use to split the survival outcomes in the data? How accurate are your predictions?*  \n",
    "**Hint:** Run the code cell below to see the accuracy of your predictions."
   ]
  },
  {
   "cell_type": "code",
   "execution_count": 60,
   "metadata": {
    "collapsed": false
   },
   "outputs": [
    {
     "name": "stdout",
     "output_type": "stream",
     "text": [
      "Predictions have an accuracy of 81.14%.\n"
     ]
    }
   ],
   "source": [
    "print accuracy_score(outcomes, predictions)"
   ]
  },
  {
   "cell_type": "markdown",
   "metadata": {},
   "source": [
    "**Answer**: I followed from predictions_2. Afterward, I tried several combinations of features and conditions. Then, I found that when Pclass is equal to 3 there was high probability that a passenger did not survive. Next, I examined the condition when Pclass is 3, Sex is male and Age less than 10, and I saw a majority of males younger than 10 did not survive. I added the last condition on the code and I tested It. The accuracy was increased to 79.91%, but it still is not the desirable value. Next, I examined the relation between Pclass and females. I observed that the amount of females who survived was equal to the amount of females who survived. So, I looked at the age when the passenger is female and the Pclass is 3. In that case, the majority of females between 20 and 50 years old did not survive. With this information I obtained a accuracy of 81.14%. The suggested features SibSp and Parch weren't helpful."
   ]
  },
  {
   "cell_type": "markdown",
   "metadata": {},
   "source": [
    "# Conclusion\n",
    "\n",
    "After several iterations of exploring and conditioning on the data, you have built a useful algorithm for predicting the survival of each passenger aboard the RMS Titanic. The technique applied in this project is a manual implementation of a simple machine learning model, the *decision tree*. A decision tree splits a set of data into smaller and smaller groups (called *nodes*), by one feature at a time. Each time a subset of the data is split, our predictions become more accurate if each of the resulting subgroups are more homogeneous (contain similar labels) than before. The advantage of having a computer do things for us is that it will be more exhaustive and more precise than our manual exploration above. [This link](http://www.r2d3.us/visual-intro-to-machine-learning-part-1/) provides another introduction into machine learning using a decision tree.\n",
    "\n",
    "A decision tree is just one of many models that come from *supervised learning*. In supervised learning, we attempt to use features of the data to predict or model things with objective outcome labels. That is to say, each of our data points has a known outcome value, such as a categorical, discrete label like `'Survived'`, or a numerical, continuous value like predicting the price of a house.\n",
    "\n",
    "### Question 5\n",
    "*Think of a real-world scenario where supervised learning could be applied. What would be the outcome variable that you are trying to predict? Name two features about the data used in this scenario that might be helpful for making the predictions.*  "
   ]
  },
  {
   "cell_type": "markdown",
   "metadata": {
    "collapsed": true
   },
   "source": [
    "**Answer**: I thought in the flu diagnostic as a real-world scenario where a supervised learning algorithm could classify if a patient have or not have flu. Two possible features that might be helpful to make predictions are body temperature and runny nose."
   ]
  },
  {
   "cell_type": "markdown",
   "metadata": {},
   "source": [
    "> **Note**: Once you have completed all of the code implementations and successfully answered each question above, you may finalize your work by exporting the iPython Notebook as an HTML document. You can do this by using the menu above and navigating to  \n",
    "**File -> Download as -> HTML (.html)**. Include the finished document along with this notebook as your submission."
   ]
  }
 ],
 "metadata": {
  "kernelspec": {
   "display_name": "Python 2",
   "language": "python",
   "name": "python2"
  },
  "language_info": {
   "codemirror_mode": {
    "name": "ipython",
    "version": 2
   },
   "file_extension": ".py",
   "mimetype": "text/x-python",
   "name": "python",
   "nbconvert_exporter": "python",
   "pygments_lexer": "ipython2",
   "version": "2.7.12+"
  }
 },
 "nbformat": 4,
 "nbformat_minor": 0
}
